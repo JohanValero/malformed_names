{
 "cells": [
  {
   "cell_type": "code",
   "execution_count": 9,
   "metadata": {},
   "outputs": [],
   "source": [
    "import re\n",
    "import pandas as pd\n",
    "from metaphone import doublemetaphone"
   ]
  },
  {
   "cell_type": "code",
   "execution_count": 15,
   "metadata": {},
   "outputs": [
    {
     "data": {
      "text/html": [
       "<div>\n",
       "<style scoped>\n",
       "    .dataframe tbody tr th:only-of-type {\n",
       "        vertical-align: middle;\n",
       "    }\n",
       "\n",
       "    .dataframe tbody tr th {\n",
       "        vertical-align: top;\n",
       "    }\n",
       "\n",
       "    .dataframe thead th {\n",
       "        text-align: right;\n",
       "    }\n",
       "</style>\n",
       "<table border=\"1\" class=\"dataframe\">\n",
       "  <thead>\n",
       "    <tr style=\"text-align: right;\">\n",
       "      <th></th>\n",
       "      <th>NAME</th>\n",
       "    </tr>\n",
       "  </thead>\n",
       "  <tbody>\n",
       "    <tr>\n",
       "      <th>0</th>\n",
       "      <td>MARIA</td>\n",
       "    </tr>\n",
       "    <tr>\n",
       "      <th>1</th>\n",
       "      <td>CARMEN</td>\n",
       "    </tr>\n",
       "    <tr>\n",
       "      <th>2</th>\n",
       "      <td>JOSEFA</td>\n",
       "    </tr>\n",
       "  </tbody>\n",
       "</table>\n",
       "</div>"
      ],
      "text/plain": [
       "     NAME\n",
       "0   MARIA\n",
       "1  CARMEN\n",
       "2  JOSEFA"
      ]
     },
     "execution_count": 15,
     "metadata": {},
     "output_type": "execute_result"
    }
   ],
   "source": [
    "def read_kaggle_names():\n",
    "    dfa = pd.read_csv(\"resources/kaggle_female_names.csv\")[[\"name\"]]\n",
    "    dfm = pd.read_csv(\"resources/kaggle_male_names.csv\")[[\"name\"]]\n",
    "    dfmn = pd.read_csv(\"resources/ine_male_names.csv\")[[\"name\"]]\n",
    "    dffn = pd.read_csv(\"resources/ine_female_names.csv\")[[\"name\"]]\n",
    "    \n",
    "    dfms = pd.read_csv(\"resources/ine_surnames_freq_ge_100.csv\")[[\"surname\"]]\n",
    "    dfms.rename(columns = {'surname': 'name'}, inplace = True)\n",
    "    dfms = dfms[[\"name\"]]\n",
    "    \n",
    "    vFullList = pd.concat([dfa, dfm, dfmn, dffn, dfms])\n",
    "    #vFullList = pd.concat([dfa, dfm, dfmn, dffn])\n",
    "    \n",
    "    vFullList[\"name\"] = vFullList[\"name\"].str.upper()\n",
    "    vFullList = vFullList.drop_duplicates()[\"name\"].dropna().tolist()\n",
    "    \n",
    "    vListNames = [x for x in vFullList if \" \" not in x]\n",
    "    # Se separan los nombres doobles como: \"MARIA CARMEN\" en \"MARIA\" y \"CARMEN\".\n",
    "    # Se agregan los nombres que no existan en la lista principal.\n",
    "    vLongNames = [x.split(\" \") for x in vFullList if \" \" in x]\n",
    "    for vArrays in vLongNames:\n",
    "        vArrays = [x for x in vArrays if x not in vListNames]\n",
    "        if len(vArrays) > 0:\n",
    "            vListNames.extend(vArrays)\n",
    "    # Evita que palabras como \"DE\", \"LA\", \"SU\" se agreguen al dataset.\n",
    "    #vListNames = [x for x in vListNames if len(x) > 2]\n",
    "    return pd.DataFrame(vListNames, columns=[\"NAME\"])\n",
    "\n",
    "vListNames = read_kaggle_names()\n",
    "vListNames.head(3)"
   ]
  },
  {
   "cell_type": "code",
   "execution_count": 16,
   "metadata": {},
   "outputs": [
    {
     "data": {
      "text/html": [
       "<div>\n",
       "<style scoped>\n",
       "    .dataframe tbody tr th:only-of-type {\n",
       "        vertical-align: middle;\n",
       "    }\n",
       "\n",
       "    .dataframe tbody tr th {\n",
       "        vertical-align: top;\n",
       "    }\n",
       "\n",
       "    .dataframe thead th {\n",
       "        text-align: right;\n",
       "    }\n",
       "</style>\n",
       "<table border=\"1\" class=\"dataframe\">\n",
       "  <thead>\n",
       "    <tr style=\"text-align: right;\">\n",
       "      <th></th>\n",
       "      <th>NAME</th>\n",
       "      <th>METAPHONE_A</th>\n",
       "      <th>METAPHONE_B</th>\n",
       "      <th>REGEX_CV</th>\n",
       "    </tr>\n",
       "  </thead>\n",
       "  <tbody>\n",
       "    <tr>\n",
       "      <th>0</th>\n",
       "      <td>MARIA</td>\n",
       "      <td>MR</td>\n",
       "      <td>MR</td>\n",
       "      <td>CACIA</td>\n",
       "    </tr>\n",
       "    <tr>\n",
       "      <th>1</th>\n",
       "      <td>CARMEN</td>\n",
       "      <td>KRMN</td>\n",
       "      <td>KRMN</td>\n",
       "      <td>CACEC</td>\n",
       "    </tr>\n",
       "    <tr>\n",
       "      <th>2</th>\n",
       "      <td>JOSEFA</td>\n",
       "      <td>JSF</td>\n",
       "      <td>HSF</td>\n",
       "      <td>COCECA</td>\n",
       "    </tr>\n",
       "  </tbody>\n",
       "</table>\n",
       "</div>"
      ],
      "text/plain": [
       "     NAME METAPHONE_A METAPHONE_B REGEX_CV\n",
       "0   MARIA          MR          MR    CACIA\n",
       "1  CARMEN        KRMN        KRMN    CACEC\n",
       "2  JOSEFA         JSF         HSF   COCECA"
      ]
     },
     "execution_count": 16,
     "metadata": {},
     "output_type": "execute_result"
    }
   ],
   "source": [
    "cCONSONANTS = \"BCDFGHJKLMNÑPQRSTVWXZ\"\n",
    "cREGEX_NOT_REPEATED = re.compile(r\"(.)\\1+\")\n",
    "\n",
    "def get_semantic_token(iToken):\n",
    "    vTokenRegex = iToken.upper()\n",
    "    vTokenRegex = vTokenRegex.translate(str.maketrans(cCONSONANTS, \"C\" * len(cCONSONANTS)))\n",
    "    vTokenRegex = cREGEX_NOT_REPEATED.sub(r\"\\1\", vTokenRegex)\n",
    "    return vTokenRegex\n",
    "\n",
    "vListNames[\"METAPHONE_A\"] = vListNames[\"NAME\"].apply(lambda x : doublemetaphone(x)[0])\n",
    "vListNames[\"METAPHONE_B\"] = vListNames[\"NAME\"].apply(lambda x : doublemetaphone(x)[1] if len(doublemetaphone(x)[1]) > 0 else doublemetaphone(x)[0])\n",
    "vListNames[\"REGEX_CV\"] = vListNames[\"NAME\"].apply(lambda x : get_semantic_token(x))\n",
    "vListNames.head(3)"
   ]
  },
  {
   "cell_type": "code",
   "execution_count": 17,
   "metadata": {},
   "outputs": [],
   "source": [
    "vListNames.to_csv(\"resources/export_full_dataset.csv\", index = False)"
   ]
  }
 ],
 "metadata": {
  "kernelspec": {
   "display_name": "env",
   "language": "python",
   "name": "python3"
  },
  "language_info": {
   "codemirror_mode": {
    "name": "ipython",
    "version": 3
   },
   "file_extension": ".py",
   "mimetype": "text/x-python",
   "name": "python",
   "nbconvert_exporter": "python",
   "pygments_lexer": "ipython3",
   "version": "3.10.5"
  },
  "orig_nbformat": 4,
  "vscode": {
   "interpreter": {
    "hash": "73c2b2104da8473d25aa91bb12b41d84370fc77dbabcd36cbab08bfa5de97de5"
   }
  }
 },
 "nbformat": 4,
 "nbformat_minor": 2
}
